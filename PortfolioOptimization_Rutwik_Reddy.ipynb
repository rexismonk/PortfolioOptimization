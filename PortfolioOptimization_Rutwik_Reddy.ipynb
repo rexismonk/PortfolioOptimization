{
 "cells": [
  {
   "cell_type": "code",
   "execution_count": 2,
   "id": "cb486913-dcc8-4a8b-a5a9-5f01df8cc6cc",
   "metadata": {},
   "outputs": [
    {
     "ename": "NameError",
     "evalue": "name 'warnings' is not defined",
     "output_type": "error",
     "traceback": [
      "\u001b[1;31m---------------------------------------------------------------------------\u001b[0m",
      "\u001b[1;31mNameError\u001b[0m                                 Traceback (most recent call last)",
      "Cell \u001b[1;32mIn[2], line 1\u001b[0m\n\u001b[1;32m----> 1\u001b[0m warnings\u001b[38;5;241m.\u001b[39mfilterwarnings(\u001b[38;5;124m'\u001b[39m\u001b[38;5;124mignore\u001b[39m\u001b[38;5;124m'\u001b[39m)\n\u001b[0;32m      2\u001b[0m \u001b[38;5;28;01mimport\u001b[39;00m\u001b[38;5;250m \u001b[39m\u001b[38;5;21;01myfinance\u001b[39;00m\u001b[38;5;250m \u001b[39m\u001b[38;5;28;01mas\u001b[39;00m\u001b[38;5;250m \u001b[39m\u001b[38;5;21;01myf\u001b[39;00m\n\u001b[0;32m      4\u001b[0m \u001b[38;5;66;03m# Tickers and date range\u001b[39;00m\n",
      "\u001b[1;31mNameError\u001b[0m: name 'warnings' is not defined"
     ]
    }
   ],
   "source": [
    "pip install warnings\n",
    "\n",
    "warnings.filterwarnings('ignore')\n",
    "import yfinance as yf\n",
    "\n",
    "# Tickers and date range\n",
    "tickers = ['AAPL', 'MSFT', 'GOOGL', 'JPM', 'V']\n",
    "start_date = '2020-01-01'\n",
    "end_date = '2025-09-24' \n",
    "\n",
    "\n",
    "data = yf.download(tickers, start=start_date, end=end_date)['Close']\n",
    "\n",
    "\n",
    "data.to_csv('stock_prices.csv')\n",
    "\n",
    "print(\"Data saved successfully to stock_prices.csv\")"
   ]
  },
  {
   "cell_type": "code",
   "execution_count": null,
   "id": "769f7e2f-2ee5-4526-b87a-aa686583b799",
   "metadata": {},
   "outputs": [],
   "source": [
    "import pandas as pd\n",
    "portfolio_data= pd.read_csv(\"stock_prices.csv\", index_col='Date', parse_dates=True)\n",
    "display(portfolio_data)"
   ]
  },
  {
   "cell_type": "code",
   "execution_count": null,
   "id": "7d5c594b-94d1-4c4e-88d1-5d8e6e8bfdd8",
   "metadata": {},
   "outputs": [],
   "source": [
    "import numpy as np\n",
    "daily_returns = np.log(portfolio_data / portfolio_data.shift(1))\n",
    "expected_annual_returns = daily_returns.mean() * 252\n",
    "annual_cov_matrix = daily_returns.cov() * 252\n",
    "print (annual_cov_matrix)"
   ]
  },
  {
   "cell_type": "code",
   "execution_count": null,
   "id": "33318770-3408-4105-af84-50960db54f7c",
   "metadata": {},
   "outputs": [],
   "source": [
    "def portfolio_performance(weights, expected_returns, annual_cov_matrix, risk_free_rate):\n",
    "    portfolio_return = np.sum(expected_returns * weights)\n",
    "    portfolio_volatility = np.sqrt(np.dot(weights.T, np.dot(annual_cov_matrix, weights)))\n",
    "    sharpe_ratio = (portfolio_return - risk_free_rate) / portfolio_volatility\n",
    "    return -sharpe_ratio"
   ]
  },
  {
   "cell_type": "code",
   "execution_count": null,
   "id": "e1f7ffc0-ab8e-45a8-bae1-9d19a793dd70",
   "metadata": {},
   "outputs": [],
   "source": [
    "from scipy.optimize import minimize\n",
    "\n",
    "# Each weight between 0 and 1\n",
    "num_assets = len(expected_annual_returns)\n",
    "bounds = tuple((0, 0.5) for _ in range(num_assets))\n",
    "\n",
    "# Sum of weights is 1\n",
    "constraints = ({'type': 'eq', 'fun': lambda weights: np.sum(weights) - 1})"
   ]
  },
  {
   "cell_type": "code",
   "execution_count": null,
   "id": "38fc98f2-aacc-4d37-8cbd-de14140b69ce",
   "metadata": {},
   "outputs": [],
   "source": [
    "\n",
    "    num_assets = len(expected_annual_returns)\n",
    "    initial_weights = np.array(num_assets * [1. / num_assets])\n",
    "    print(initial_weights)\n",
    "    \n",
    "    # We will assume the risk free rate is 0.03%\n",
    "    risk_free_rate = 0.03\n",
    "    \n",
    "    \n",
    "    result = minimize( fun=portfolio_performance,x0=initial_weights, args=(expected_annual_returns, annual_cov_matrix, risk_free_rate),method='SLSQP',\n",
    "                      bounds=bounds,\n",
    "                      constraints=constraints\n",
    "    )"
   ]
  },
  {
   "cell_type": "code",
   "execution_count": null,
   "id": "7854da18-4dd7-4482-b9d4-3e7321753429",
   "metadata": {},
   "outputs": [],
   "source": [
    "# Extract the optimal weights from the result\n",
    "optimal_weights = result.x\n",
    "\n",
    "# Print the optimal allocation for each stock\n",
    "print(\"Optimal Portfolio Allocation:\")\n",
    "for ticker, weight in zip(portfolio_data.columns, optimal_weights):\n",
    "    print(f\"- {ticker}: {weight*100:.2f}%\")\n",
    "\n",
    "# Calculate and display the performance of the optimal portfolio\n",
    "optimal_return = np.sum(expected_annual_returns * optimal_weights)\n",
    "optimal_volatility = np.sqrt(np.dot(optimal_weights.T, np.dot(annual_cov_matrix, optimal_weights)))\n",
    "optimal_sharpe_ratio = (optimal_return - risk_free_rate) / optimal_volatility\n",
    "\n",
    "print(\"\\n--- Optimal Portfolio Performance ---\")\n",
    "print(f\"Expected Annual Return: {optimal_return*100:.2f}%\")\n",
    "print(f\"Annual Volatility (Risk): {optimal_volatility*100:.2f}%\")\n",
    "print(f\"Sharpe Ratio: {optimal_sharpe_ratio:.2f}\")"
   ]
  },
  {
   "cell_type": "code",
   "execution_count": null,
   "id": "9f021b1b-aaea-4046-97a3-f630229b771a",
   "metadata": {},
   "outputs": [],
   "source": [
    "import matplotlib.pyplot as plt\n",
    "\n",
    "\n",
    "plt.figure(figsize=(8, 8))\n",
    "plt.pie(optimal_weights, labels=portfolio_data.columns, autopct='%1.1f%%', startangle=140)\n",
    "plt.title('Optimal Portfolio Allocation')\n",
    "plt.axis('equal')  \n",
    "\n",
    "\n",
    "plt.savefig('optimal_portfolio_pie_chart.png')"
   ]
  },
  {
   "cell_type": "code",
   "execution_count": null,
   "id": "bebc0f54-4e38-43af-8ba9-857b3cbf767b",
   "metadata": {},
   "outputs": [],
   "source": []
  }
 ],
 "metadata": {
  "kernelspec": {
   "display_name": "Python [conda env:base] *",
   "language": "python",
   "name": "conda-base-py"
  },
  "language_info": {
   "codemirror_mode": {
    "name": "ipython",
    "version": 3
   },
   "file_extension": ".py",
   "mimetype": "text/x-python",
   "name": "python",
   "nbconvert_exporter": "python",
   "pygments_lexer": "ipython3",
   "version": "3.13.5"
  }
 },
 "nbformat": 4,
 "nbformat_minor": 5
}
