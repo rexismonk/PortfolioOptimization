{
 "cells": [
  {
   "cell_type": "code",
   "execution_count": 6,
   "id": "cb486913-dcc8-4a8b-a5a9-5f01df8cc6cc",
   "metadata": {},
   "outputs": [
    {
     "name": "stderr",
     "output_type": "stream",
     "text": [
      "[*********************100%***********************]  5 of 5 completed"
     ]
    },
    {
     "name": "stdout",
     "output_type": "stream",
     "text": [
      "Data saved successfully to stock_prices.csv\n"
     ]
    },
    {
     "name": "stderr",
     "output_type": "stream",
     "text": [
      "\n"
     ]
    }
   ],
   "source": [
    "import warnings\n",
    "warnings.filterwarnings('ignore')\n",
    "\n",
    "import yfinance as yf\n",
    "\n",
    "# Tickers and date range\n",
    "tickers = ['AAPL', 'MSFT', 'GOOGL', 'JPM', 'V']\n",
    "start_date = '2020-01-01'\n",
    "end_date = '2025-09-24' \n",
    "\n",
    "\n",
    "data = yf.download(tickers, start=start_date, end=end_date)['Close']\n",
    "\n",
    "\n",
    "data.to_csv('stock_prices.csv')\n",
    "\n",
    "print(\"Data saved successfully to stock_prices.csv\")"
   ]
  },
  {
   "cell_type": "code",
   "execution_count": 7,
   "id": "769f7e2f-2ee5-4526-b87a-aa686583b799",
   "metadata": {},
   "outputs": [
    {
     "data": {
      "text/html": [
       "<div>\n",
       "<style scoped>\n",
       "    .dataframe tbody tr th:only-of-type {\n",
       "        vertical-align: middle;\n",
       "    }\n",
       "\n",
       "    .dataframe tbody tr th {\n",
       "        vertical-align: top;\n",
       "    }\n",
       "\n",
       "    .dataframe thead th {\n",
       "        text-align: right;\n",
       "    }\n",
       "</style>\n",
       "<table border=\"1\" class=\"dataframe\">\n",
       "  <thead>\n",
       "    <tr style=\"text-align: right;\">\n",
       "      <th></th>\n",
       "      <th>AAPL</th>\n",
       "      <th>GOOGL</th>\n",
       "      <th>JPM</th>\n",
       "      <th>MSFT</th>\n",
       "      <th>V</th>\n",
       "    </tr>\n",
       "    <tr>\n",
       "      <th>Date</th>\n",
       "      <th></th>\n",
       "      <th></th>\n",
       "      <th></th>\n",
       "      <th></th>\n",
       "      <th></th>\n",
       "    </tr>\n",
       "  </thead>\n",
       "  <tbody>\n",
       "    <tr>\n",
       "      <th>2020-01-02</th>\n",
       "      <td>72.538528</td>\n",
       "      <td>67.965225</td>\n",
       "      <td>120.154716</td>\n",
       "      <td>152.791183</td>\n",
       "      <td>183.549042</td>\n",
       "    </tr>\n",
       "    <tr>\n",
       "      <th>2020-01-03</th>\n",
       "      <td>71.833298</td>\n",
       "      <td>67.609680</td>\n",
       "      <td>118.569069</td>\n",
       "      <td>150.888580</td>\n",
       "      <td>182.089294</td>\n",
       "    </tr>\n",
       "    <tr>\n",
       "      <th>2020-01-06</th>\n",
       "      <td>72.405685</td>\n",
       "      <td>69.411766</td>\n",
       "      <td>118.474808</td>\n",
       "      <td>151.278610</td>\n",
       "      <td>181.695511</td>\n",
       "    </tr>\n",
       "    <tr>\n",
       "      <th>2020-01-07</th>\n",
       "      <td>72.065140</td>\n",
       "      <td>69.277679</td>\n",
       "      <td>116.460648</td>\n",
       "      <td>149.899307</td>\n",
       "      <td>181.215347</td>\n",
       "    </tr>\n",
       "    <tr>\n",
       "      <th>2020-01-08</th>\n",
       "      <td>73.224403</td>\n",
       "      <td>69.770790</td>\n",
       "      <td>117.369164</td>\n",
       "      <td>152.286942</td>\n",
       "      <td>184.317352</td>\n",
       "    </tr>\n",
       "    <tr>\n",
       "      <th>...</th>\n",
       "      <td>...</td>\n",
       "      <td>...</td>\n",
       "      <td>...</td>\n",
       "      <td>...</td>\n",
       "      <td>...</td>\n",
       "    </tr>\n",
       "    <tr>\n",
       "      <th>2025-09-17</th>\n",
       "      <td>238.990005</td>\n",
       "      <td>249.529999</td>\n",
       "      <td>311.750000</td>\n",
       "      <td>510.019989</td>\n",
       "      <td>346.200012</td>\n",
       "    </tr>\n",
       "    <tr>\n",
       "      <th>2025-09-18</th>\n",
       "      <td>237.880005</td>\n",
       "      <td>252.029999</td>\n",
       "      <td>313.230011</td>\n",
       "      <td>508.450012</td>\n",
       "      <td>338.179993</td>\n",
       "    </tr>\n",
       "    <tr>\n",
       "      <th>2025-09-19</th>\n",
       "      <td>245.500000</td>\n",
       "      <td>254.720001</td>\n",
       "      <td>314.779999</td>\n",
       "      <td>517.929993</td>\n",
       "      <td>341.609985</td>\n",
       "    </tr>\n",
       "    <tr>\n",
       "      <th>2025-09-22</th>\n",
       "      <td>256.079987</td>\n",
       "      <td>252.529999</td>\n",
       "      <td>312.440002</td>\n",
       "      <td>514.450012</td>\n",
       "      <td>344.359985</td>\n",
       "    </tr>\n",
       "    <tr>\n",
       "      <th>2025-09-23</th>\n",
       "      <td>254.429993</td>\n",
       "      <td>251.660004</td>\n",
       "      <td>312.739990</td>\n",
       "      <td>509.230011</td>\n",
       "      <td>338.700012</td>\n",
       "    </tr>\n",
       "  </tbody>\n",
       "</table>\n",
       "<p>1439 rows × 5 columns</p>\n",
       "</div>"
      ],
      "text/plain": [
       "                  AAPL       GOOGL         JPM        MSFT           V\n",
       "Date                                                                  \n",
       "2020-01-02   72.538528   67.965225  120.154716  152.791183  183.549042\n",
       "2020-01-03   71.833298   67.609680  118.569069  150.888580  182.089294\n",
       "2020-01-06   72.405685   69.411766  118.474808  151.278610  181.695511\n",
       "2020-01-07   72.065140   69.277679  116.460648  149.899307  181.215347\n",
       "2020-01-08   73.224403   69.770790  117.369164  152.286942  184.317352\n",
       "...                ...         ...         ...         ...         ...\n",
       "2025-09-17  238.990005  249.529999  311.750000  510.019989  346.200012\n",
       "2025-09-18  237.880005  252.029999  313.230011  508.450012  338.179993\n",
       "2025-09-19  245.500000  254.720001  314.779999  517.929993  341.609985\n",
       "2025-09-22  256.079987  252.529999  312.440002  514.450012  344.359985\n",
       "2025-09-23  254.429993  251.660004  312.739990  509.230011  338.700012\n",
       "\n",
       "[1439 rows x 5 columns]"
      ]
     },
     "metadata": {},
     "output_type": "display_data"
    }
   ],
   "source": [
    "import pandas as pd\n",
    "portfolio_data= pd.read_csv(\"stock_prices.csv\", index_col='Date', parse_dates=True)\n",
    "display(portfolio_data)"
   ]
  },
  {
   "cell_type": "code",
   "execution_count": 8,
   "id": "7d5c594b-94d1-4c4e-88d1-5d8e6e8bfdd8",
   "metadata": {},
   "outputs": [
    {
     "name": "stdout",
     "output_type": "stream",
     "text": [
      "           AAPL     GOOGL       JPM      MSFT         V\n",
      "AAPL   0.104175  0.066653  0.043921  0.069578  0.051123\n",
      "GOOGL  0.066653  0.106470  0.042470  0.070379  0.046792\n",
      "JPM    0.043921  0.042470  0.100596  0.041458  0.053941\n",
      "MSFT   0.069578  0.070379  0.041458  0.089815  0.048335\n",
      "V      0.051123  0.046792  0.053941  0.048335  0.074952\n"
     ]
    }
   ],
   "source": [
    "import numpy as np\n",
    "daily_returns = np.log(portfolio_data / portfolio_data.shift(1))\n",
    "expected_annual_returns = daily_returns.mean() * 252\n",
    "annual_cov_matrix = daily_returns.cov() * 252\n",
    "print (annual_cov_matrix)"
   ]
  },
  {
   "cell_type": "code",
   "execution_count": 9,
   "id": "33318770-3408-4105-af84-50960db54f7c",
   "metadata": {},
   "outputs": [],
   "source": [
    "def portfolio_performance(weights, expected_returns, annual_cov_matrix, risk_free_rate):\n",
    "    portfolio_return = np.sum(expected_returns * weights)\n",
    "    portfolio_volatility = np.sqrt(np.dot(weights.T, np.dot(annual_cov_matrix, weights)))\n",
    "    sharpe_ratio = (portfolio_return - risk_free_rate) / portfolio_volatility\n",
    "    return -sharpe_ratio"
   ]
  },
  {
   "cell_type": "code",
   "execution_count": 10,
   "id": "e1f7ffc0-ab8e-45a8-bae1-9d19a793dd70",
   "metadata": {},
   "outputs": [],
   "source": [
    "from scipy.optimize import minimize\n",
    "\n",
    "# Each weight between 0 and 1\n",
    "num_assets = len(expected_annual_returns)\n",
    "bounds = tuple((0, 0.5) for _ in range(num_assets))\n",
    "\n",
    "# Sum of weights is 1\n",
    "constraints = ({'type': 'eq', 'fun': lambda weights: np.sum(weights) - 1})"
   ]
  },
  {
   "cell_type": "code",
   "execution_count": 11,
   "id": "38fc98f2-aacc-4d37-8cbd-de14140b69ce",
   "metadata": {},
   "outputs": [
    {
     "name": "stdout",
     "output_type": "stream",
     "text": [
      "[0.2 0.2 0.2 0.2 0.2]\n"
     ]
    }
   ],
   "source": [
    "\n",
    "    num_assets = len(expected_annual_returns)\n",
    "    initial_weights = np.array(num_assets * [1. / num_assets])\n",
    "    print(initial_weights)\n",
    "    \n",
    "    # We will assume the risk free rate is 0.03%\n",
    "    risk_free_rate = 0.03\n",
    "    \n",
    "    \n",
    "    result = minimize( fun=portfolio_performance,x0=initial_weights, args=(expected_annual_returns, annual_cov_matrix, risk_free_rate),method='SLSQP',\n",
    "                      bounds=bounds,\n",
    "                      constraints=constraints\n",
    "    )"
   ]
  },
  {
   "cell_type": "code",
   "execution_count": 12,
   "id": "7854da18-4dd7-4482-b9d4-3e7321753429",
   "metadata": {},
   "outputs": [
    {
     "name": "stdout",
     "output_type": "stream",
     "text": [
      "Optimal Portfolio Allocation:\n",
      "- AAPL: 25.62%\n",
      "- GOOGL: 33.67%\n",
      "- JPM: 17.64%\n",
      "- MSFT: 23.07%\n",
      "- V: 0.00%\n",
      "\n",
      "--- Optimal Portfolio Performance ---\n",
      "Expected Annual Return: 21.18%\n",
      "Annual Volatility (Risk): 26.43%\n",
      "Sharpe Ratio: 0.69\n"
     ]
    }
   ],
   "source": [
    "# Extract the optimal weights from the result\n",
    "optimal_weights = result.x\n",
    "\n",
    "# Print the optimal allocation for each stock\n",
    "print(\"Optimal Portfolio Allocation:\")\n",
    "for ticker, weight in zip(portfolio_data.columns, optimal_weights):\n",
    "    print(f\"- {ticker}: {weight*100:.2f}%\")\n",
    "\n",
    "# Calculate and display the performance of the optimal portfolio\n",
    "optimal_return = np.sum(expected_annual_returns * optimal_weights)\n",
    "optimal_volatility = np.sqrt(np.dot(optimal_weights.T, np.dot(annual_cov_matrix, optimal_weights)))\n",
    "optimal_sharpe_ratio = (optimal_return - risk_free_rate) / optimal_volatility\n",
    "\n",
    "print(\"\\n--- Optimal Portfolio Performance ---\")\n",
    "print(f\"Expected Annual Return: {optimal_return*100:.2f}%\")\n",
    "print(f\"Annual Volatility (Risk): {optimal_volatility*100:.2f}%\")\n",
    "print(f\"Sharpe Ratio: {optimal_sharpe_ratio:.2f}\")"
   ]
  },
  {
   "cell_type": "code",
   "execution_count": 13,
   "id": "9f021b1b-aaea-4046-97a3-f630229b771a",
   "metadata": {},
   "outputs": [
    {
     "data": {
      "image/png": "[encoded data removed]",
      "text/plain": [
       "<Figure size 800x800 with 1 Axes>"
      ]
     },
     "metadata": {},
     "output_type": "display_data"
    }
   ],
   "source": [
    "import matplotlib.pyplot as plt\n",
    "\n",
    "\n",
    "plt.figure(figsize=(8, 8))\n",
    "plt.pie(optimal_weights, labels=portfolio_data.columns, autopct='%1.1f%%', startangle=140)\n",
    "plt.title('Optimal Portfolio Allocation')\n",
    "plt.axis('equal')  \n",
    "\n",
    "\n",
    "plt.savefig('optimal_portfolio_pie_chart.png')"
   ]
  },
  {
   "cell_type": "code",
   "execution_count": null,
   "id": "bebc0f54-4e38-43af-8ba9-857b3cbf767b",
   "metadata": {},
   "outputs": [],
   "source": []
  }
 ],
 "metadata": {
  "kernelspec": {
   "display_name": "Python [conda env:base] *",
   "language": "python",
   "name": "conda-base-py"
  },
  "language_info": {
   "codemirror_mode": {
    "name": "ipython",
    "version": 3
   },
   "file_extension": ".py",
   "mimetype": "text/x-python",
   "name": "python",
   "nbconvert_exporter": "python",
   "pygments_lexer": "ipython3",
   "version": "3.13.5"
  }
 },
 "nbformat": 4,
 "nbformat_minor": 5
}
